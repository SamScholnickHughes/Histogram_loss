{
 "cells": [
  {
   "cell_type": "code",
   "execution_count": 1,
   "metadata": {},
   "outputs": [],
   "source": [
    "import numpy as np\n",
    "import pandas as pd\n",
    "import matplotlib.pyplot as plt\n",
    "from scipy import stats\n",
    "import os"
   ]
  },
  {
   "cell_type": "code",
   "execution_count": 2,
   "metadata": {},
   "outputs": [
    {
     "data": {
      "text/html": [
       "<div>\n",
       "<style scoped>\n",
       "    .dataframe tbody tr th:only-of-type {\n",
       "        vertical-align: middle;\n",
       "    }\n",
       "\n",
       "    .dataframe tbody tr th {\n",
       "        vertical-align: top;\n",
       "    }\n",
       "\n",
       "    .dataframe thead th {\n",
       "        text-align: right;\n",
       "    }\n",
       "</style>\n",
       "<table border=\"1\" class=\"dataframe\">\n",
       "  <thead>\n",
       "    <tr style=\"text-align: right;\">\n",
       "      <th></th>\n",
       "      <th>reg_loss</th>\n",
       "      <th>reg_mse</th>\n",
       "      <th>reg_mae</th>\n",
       "      <th>reg_val_loss</th>\n",
       "      <th>reg_val_mse</th>\n",
       "      <th>reg_val_mae</th>\n",
       "      <th>hlg_mse</th>\n",
       "      <th>hlg_mae</th>\n",
       "      <th>hlg_loss</th>\n",
       "      <th>hlg_val_mse</th>\n",
       "      <th>hlg_val_mae</th>\n",
       "      <th>hlg_val_loss</th>\n",
       "      <th>y_sd</th>\n",
       "      <th>reg_sd</th>\n",
       "      <th>hlg_sd</th>\n",
       "      <th>kl_mean</th>\n",
       "      <th>kl_sd</th>\n",
       "      <th>hist_sd</th>\n",
       "    </tr>\n",
       "    <tr>\n",
       "      <th>game</th>\n",
       "      <th></th>\n",
       "      <th></th>\n",
       "      <th></th>\n",
       "      <th></th>\n",
       "      <th></th>\n",
       "      <th></th>\n",
       "      <th></th>\n",
       "      <th></th>\n",
       "      <th></th>\n",
       "      <th></th>\n",
       "      <th></th>\n",
       "      <th></th>\n",
       "      <th></th>\n",
       "      <th></th>\n",
       "      <th></th>\n",
       "      <th></th>\n",
       "      <th></th>\n",
       "      <th></th>\n",
       "    </tr>\n",
       "  </thead>\n",
       "  <tbody>\n",
       "    <tr>\n",
       "      <th>AirRaid</th>\n",
       "      <td>0.008682</td>\n",
       "      <td>0.008682</td>\n",
       "      <td>0.067155</td>\n",
       "      <td>0.010074</td>\n",
       "      <td>0.010074</td>\n",
       "      <td>0.059409</td>\n",
       "      <td>0.008873</td>\n",
       "      <td>0.068780</td>\n",
       "      <td>3.126328</td>\n",
       "      <td>0.008873</td>\n",
       "      <td>0.068190</td>\n",
       "      <td>3.125896</td>\n",
       "      <td>0.136130</td>\n",
       "      <td>0.00000</td>\n",
       "      <td>0.000000</td>\n",
       "      <td>1.354709</td>\n",
       "      <td>1.336799</td>\n",
       "      <td>0.096615</td>\n",
       "    </tr>\n",
       "    <tr>\n",
       "      <th>Alien</th>\n",
       "      <td>0.000827</td>\n",
       "      <td>0.000827</td>\n",
       "      <td>0.008731</td>\n",
       "      <td>0.000716</td>\n",
       "      <td>0.000716</td>\n",
       "      <td>0.008891</td>\n",
       "      <td>0.000843</td>\n",
       "      <td>0.007925</td>\n",
       "      <td>2.243576</td>\n",
       "      <td>0.000709</td>\n",
       "      <td>0.008230</td>\n",
       "      <td>2.240457</td>\n",
       "      <td>0.002764</td>\n",
       "      <td>0.00000</td>\n",
       "      <td>0.000692</td>\n",
       "      <td>0.034985</td>\n",
       "      <td>0.007338</td>\n",
       "      <td>0.040571</td>\n",
       "    </tr>\n",
       "    <tr>\n",
       "      <th>Amidar</th>\n",
       "      <td>0.000378</td>\n",
       "      <td>0.000378</td>\n",
       "      <td>0.007455</td>\n",
       "      <td>0.000627</td>\n",
       "      <td>0.000627</td>\n",
       "      <td>0.009036</td>\n",
       "      <td>0.000245</td>\n",
       "      <td>0.004485</td>\n",
       "      <td>2.171497</td>\n",
       "      <td>0.001080</td>\n",
       "      <td>0.012648</td>\n",
       "      <td>2.403203</td>\n",
       "      <td>0.011969</td>\n",
       "      <td>0.01614</td>\n",
       "      <td>0.013054</td>\n",
       "      <td>1.802306</td>\n",
       "      <td>2.315752</td>\n",
       "      <td>0.028396</td>\n",
       "    </tr>\n",
       "    <tr>\n",
       "      <th>Assault</th>\n",
       "      <td>0.000014</td>\n",
       "      <td>0.000014</td>\n",
       "      <td>0.000053</td>\n",
       "      <td>0.000021</td>\n",
       "      <td>0.000021</td>\n",
       "      <td>0.000043</td>\n",
       "      <td>0.000014</td>\n",
       "      <td>0.000040</td>\n",
       "      <td>2.125762</td>\n",
       "      <td>0.000021</td>\n",
       "      <td>0.000046</td>\n",
       "      <td>2.124676</td>\n",
       "      <td>0.000000</td>\n",
       "      <td>0.00000</td>\n",
       "      <td>0.000000</td>\n",
       "      <td>0.000075</td>\n",
       "      <td>0.000000</td>\n",
       "      <td>0.024049</td>\n",
       "    </tr>\n",
       "    <tr>\n",
       "      <th>Asterix</th>\n",
       "      <td>0.000210</td>\n",
       "      <td>0.000210</td>\n",
       "      <td>0.001097</td>\n",
       "      <td>0.000207</td>\n",
       "      <td>0.000207</td>\n",
       "      <td>0.001159</td>\n",
       "      <td>0.000085</td>\n",
       "      <td>0.000581</td>\n",
       "      <td>2.128017</td>\n",
       "      <td>0.000098</td>\n",
       "      <td>0.000816</td>\n",
       "      <td>2.125485</td>\n",
       "      <td>0.000045</td>\n",
       "      <td>0.00000</td>\n",
       "      <td>0.000057</td>\n",
       "      <td>5.000000</td>\n",
       "      <td>0.000000</td>\n",
       "      <td>0.024059</td>\n",
       "    </tr>\n",
       "  </tbody>\n",
       "</table>\n",
       "</div>"
      ],
      "text/plain": [
       "         reg_loss   reg_mse   reg_mae  reg_val_loss  reg_val_mse  reg_val_mae  \\\n",
       "game                                                                            \n",
       "AirRaid  0.008682  0.008682  0.067155      0.010074     0.010074     0.059409   \n",
       "Alien    0.000827  0.000827  0.008731      0.000716     0.000716     0.008891   \n",
       "Amidar   0.000378  0.000378  0.007455      0.000627     0.000627     0.009036   \n",
       "Assault  0.000014  0.000014  0.000053      0.000021     0.000021     0.000043   \n",
       "Asterix  0.000210  0.000210  0.001097      0.000207     0.000207     0.001159   \n",
       "\n",
       "          hlg_mse   hlg_mae  hlg_loss  hlg_val_mse  hlg_val_mae  hlg_val_loss  \\\n",
       "game                                                                            \n",
       "AirRaid  0.008873  0.068780  3.126328     0.008873     0.068190      3.125896   \n",
       "Alien    0.000843  0.007925  2.243576     0.000709     0.008230      2.240457   \n",
       "Amidar   0.000245  0.004485  2.171497     0.001080     0.012648      2.403203   \n",
       "Assault  0.000014  0.000040  2.125762     0.000021     0.000046      2.124676   \n",
       "Asterix  0.000085  0.000581  2.128017     0.000098     0.000816      2.125485   \n",
       "\n",
       "             y_sd   reg_sd    hlg_sd   kl_mean     kl_sd   hist_sd  \n",
       "game                                                                \n",
       "AirRaid  0.136130  0.00000  0.000000  1.354709  1.336799  0.096615  \n",
       "Alien    0.002764  0.00000  0.000692  0.034985  0.007338  0.040571  \n",
       "Amidar   0.011969  0.01614  0.013054  1.802306  2.315752  0.028396  \n",
       "Assault  0.000000  0.00000  0.000000  0.000075  0.000000  0.024049  \n",
       "Asterix  0.000045  0.00000  0.000057  5.000000  0.000000  0.024059  "
      ]
     },
     "execution_count": 2,
     "metadata": {},
     "output_type": "execute_result"
    }
   ],
   "source": [
    "# Load data\n",
    "path = os.path.join(\"..\", \"data\", \"csvresults\", \"atari_meta.csv\")\n",
    "df = pd.read_csv(path)\n",
    "df = df.drop('Unnamed: 0', axis=1).set_index(\"game\")\n",
    "df = df.drop([\"Tennis\", \"Venture\", \"MontezumaRevenge\"])\n",
    "df.head()"
   ]
  },
  {
   "cell_type": "code",
   "execution_count": 3,
   "metadata": {},
   "outputs": [],
   "source": [
    "# Select input and response variables\n",
    "#X = np.sqrt(df[\"reg_val_mse\"].to_numpy())\n",
    "#Y = np.sqrt(df[\"hlg_val_mse\"].to_numpy())\n",
    "X = df[\"reg_val_mae\"].to_numpy()\n",
    "Y = df[\"hlg_val_mae\"].to_numpy()"
   ]
  },
  {
   "cell_type": "code",
   "execution_count": 4,
   "metadata": {},
   "outputs": [
    {
     "data": {
      "image/png": "[encoded data removed]",
      "text/plain": [
       "<Figure size 640x480 with 1 Axes>"
      ]
     },
     "metadata": {},
     "output_type": "display_data"
    }
   ],
   "source": [
    "# Plot data\n",
    "plt.scatter(X, Y)\n",
    "plt.show()"
   ]
  },
  {
   "cell_type": "code",
   "execution_count": 5,
   "metadata": {},
   "outputs": [
    {
     "data": {
      "text/plain": [
       "0.8993885093641105"
      ]
     },
     "execution_count": 5,
     "metadata": {},
     "output_type": "execute_result"
    }
   ],
   "source": [
    "# Estimate slope\n",
    "b_hat = np.dot(X.T, Y) / np.dot(X.T, X)\n",
    "b_hat"
   ]
  },
  {
   "cell_type": "code",
   "execution_count": 6,
   "metadata": {},
   "outputs": [
    {
     "data": {
      "text/plain": [
       "array([ 1.47581584e-02,  2.33499868e-04,  4.52165958e-03,  7.51652202e-06,\n",
       "       -2.26714247e-04, -5.72901686e-03, -7.92478591e-04,  8.38757518e-04,\n",
       "       -8.88317233e-04,  2.24126856e-04,  1.32411978e-02,  1.77072652e-03,\n",
       "        3.67804950e-02,  3.86878581e-04, -1.32236382e-03,  5.80956309e-03,\n",
       "       -4.49490482e-03,  2.07982462e-04, -3.80842579e-04,  8.70481424e-05,\n",
       "       -2.62925324e-03,  2.18588343e-02,  1.08734161e-02, -1.77545921e-02,\n",
       "       -6.49592406e-03,  7.87221092e-03,  4.14756730e-04, -8.79060649e-04,\n",
       "        3.03935801e-03, -4.39894167e-02, -4.45572926e-04, -2.06300353e-02,\n",
       "        2.58434016e-05, -1.32624782e-03, -2.16535936e-04, -3.84023959e-03,\n",
       "       -5.00936635e-04,  1.08893378e-02, -1.34189353e-03,  2.98615747e-03,\n",
       "        7.08112955e-03, -3.42404481e-02,  1.01056608e-03, -4.91727055e-03,\n",
       "        1.21996889e-02,  3.68457410e-03, -4.65503141e-02,  7.45261834e-03,\n",
       "       -9.13804152e-04,  9.55369933e-04, -3.74412435e-03, -1.27032305e-02,\n",
       "       -2.41448579e-03])"
      ]
     },
     "execution_count": 6,
     "metadata": {},
     "output_type": "execute_result"
    }
   ],
   "source": [
    "# Compute residuals\n",
    "r = Y - b_hat * X\n",
    "r"
   ]
  },
  {
   "cell_type": "code",
   "execution_count": 7,
   "metadata": {},
   "outputs": [
    {
     "data": {
      "text/plain": [
       "0.009215762965432243"
      ]
     },
     "execution_count": 7,
     "metadata": {},
     "output_type": "execute_result"
    }
   ],
   "source": [
    "# Compute SSres\n",
    "ss_res = np.sum(r ** 2)\n",
    "ss_res"
   ]
  },
  {
   "cell_type": "code",
   "execution_count": 8,
   "metadata": {},
   "outputs": [
    {
     "data": {
      "text/plain": [
       "(0.033498552459068416, 53)"
      ]
     },
     "execution_count": 8,
     "metadata": {},
     "output_type": "execute_result"
    }
   ],
   "source": [
    "# Compute standard error\n",
    "n = len(X)\n",
    "p = 0\n",
    "se_b = np.sqrt(ss_res / (np.dot(X.T, X) * (n - p - 1)))\n",
    "se_b, n"
   ]
  },
  {
   "cell_type": "code",
   "execution_count": 9,
   "metadata": {},
   "outputs": [
    {
     "data": {
      "image/png": "[encoded data removed]",
      "text/plain": [
       "<Figure size 640x480 with 1 Axes>"
      ]
     },
     "metadata": {},
     "output_type": "display_data"
    }
   ],
   "source": [
    "# Plot residuals\n",
    "plt.scatter(b_hat * X, r)\n",
    "plt.show()"
   ]
  },
  {
   "cell_type": "code",
   "execution_count": 10,
   "metadata": {},
   "outputs": [
    {
     "data": {
      "text/plain": [
       "(0.8321687461635692, 0.9666082725646519)"
      ]
     },
     "execution_count": 10,
     "metadata": {},
     "output_type": "execute_result"
    }
   ],
   "source": [
    "# Compute confidence interval\n",
    "alpha = 0.05\n",
    "t_star = stats.t.ppf(1 - alpha / 2, n - p - 1)\n",
    "low = b_hat - t_star * se_b\n",
    "high = b_hat + t_star * se_b\n",
    "\n",
    "low, high"
   ]
  },
  {
   "cell_type": "code",
   "execution_count": 11,
   "metadata": {},
   "outputs": [
    {
     "data": {
      "text/plain": [
       "0.002048936181666598"
      ]
     },
     "execution_count": 11,
     "metadata": {},
     "output_type": "execute_result"
    }
   ],
   "source": [
    "# Compute one-sided p-value\n",
    "t_stat = (b_hat - 1) / se_b\n",
    "p_val = stats.t.cdf(-abs(t_stat), n - p - 1)\n",
    "p_val"
   ]
  }
 ],
 "metadata": {
  "kernelspec": {
   "display_name": "venv",
   "language": "python",
   "name": "python3"
  },
  "language_info": {
   "codemirror_mode": {
    "name": "ipython",
    "version": 3
   },
   "file_extension": ".py",
   "mimetype": "text/x-python",
   "name": "python",
   "nbconvert_exporter": "python",
   "pygments_lexer": "ipython3",
   "version": "3.11.4"
  },
  "orig_nbformat": 4
 },
 "nbformat": 4,
 "nbformat_minor": 2
}
