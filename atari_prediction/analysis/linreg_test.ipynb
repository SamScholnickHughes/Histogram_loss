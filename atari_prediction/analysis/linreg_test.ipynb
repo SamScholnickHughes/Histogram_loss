{
 "cells": [
  {
   "cell_type": "code",
   "execution_count": 21,
   "metadata": {},
   "outputs": [],
   "source": [
    "import numpy as np\n",
    "import pandas as pd\n",
    "import matplotlib.pyplot as plt\n",
    "from scipy import stats\n",
    "import os"
   ]
  },
  {
   "cell_type": "code",
   "execution_count": 22,
   "metadata": {},
   "outputs": [
    {
     "data": {
      "text/html": [
       "<div>\n",
       "<style scoped>\n",
       "    .dataframe tbody tr th:only-of-type {\n",
       "        vertical-align: middle;\n",
       "    }\n",
       "\n",
       "    .dataframe tbody tr th {\n",
       "        vertical-align: top;\n",
       "    }\n",
       "\n",
       "    .dataframe thead th {\n",
       "        text-align: right;\n",
       "    }\n",
       "</style>\n",
       "<table border=\"1\" class=\"dataframe\">\n",
       "  <thead>\n",
       "    <tr style=\"text-align: right;\">\n",
       "      <th></th>\n",
       "      <th>reg_loss</th>\n",
       "      <th>reg_mse</th>\n",
       "      <th>reg_mae</th>\n",
       "      <th>reg_val_loss</th>\n",
       "      <th>reg_val_mse</th>\n",
       "      <th>reg_val_mae</th>\n",
       "      <th>hlg_mse</th>\n",
       "      <th>hlg_mae</th>\n",
       "      <th>hlg_loss</th>\n",
       "      <th>hlg_val_mse</th>\n",
       "      <th>hlg_val_mae</th>\n",
       "      <th>hlg_val_loss</th>\n",
       "      <th>y_sd</th>\n",
       "      <th>reg_sd</th>\n",
       "      <th>hlg_sd</th>\n",
       "      <th>kl_mean</th>\n",
       "      <th>kl_sd</th>\n",
       "      <th>hist_sd</th>\n",
       "    </tr>\n",
       "    <tr>\n",
       "      <th>game</th>\n",
       "      <th></th>\n",
       "      <th></th>\n",
       "      <th></th>\n",
       "      <th></th>\n",
       "      <th></th>\n",
       "      <th></th>\n",
       "      <th></th>\n",
       "      <th></th>\n",
       "      <th></th>\n",
       "      <th></th>\n",
       "      <th></th>\n",
       "      <th></th>\n",
       "      <th></th>\n",
       "      <th></th>\n",
       "      <th></th>\n",
       "      <th></th>\n",
       "      <th></th>\n",
       "      <th></th>\n",
       "    </tr>\n",
       "  </thead>\n",
       "  <tbody>\n",
       "    <tr>\n",
       "      <th>AirRaid</th>\n",
       "      <td>0.008682</td>\n",
       "      <td>0.008682</td>\n",
       "      <td>0.067155</td>\n",
       "      <td>0.010074</td>\n",
       "      <td>0.010074</td>\n",
       "      <td>0.059409</td>\n",
       "      <td>0.008873</td>\n",
       "      <td>0.068780</td>\n",
       "      <td>3.126328</td>\n",
       "      <td>0.008873</td>\n",
       "      <td>0.068190</td>\n",
       "      <td>3.125896</td>\n",
       "      <td>0.136130</td>\n",
       "      <td>0.00000</td>\n",
       "      <td>0.000000</td>\n",
       "      <td>1.354709</td>\n",
       "      <td>1.336799</td>\n",
       "      <td>0.096615</td>\n",
       "    </tr>\n",
       "    <tr>\n",
       "      <th>Alien</th>\n",
       "      <td>0.000827</td>\n",
       "      <td>0.000827</td>\n",
       "      <td>0.008731</td>\n",
       "      <td>0.000716</td>\n",
       "      <td>0.000716</td>\n",
       "      <td>0.008891</td>\n",
       "      <td>0.000843</td>\n",
       "      <td>0.007925</td>\n",
       "      <td>2.243576</td>\n",
       "      <td>0.000709</td>\n",
       "      <td>0.008230</td>\n",
       "      <td>2.240457</td>\n",
       "      <td>0.002764</td>\n",
       "      <td>0.00000</td>\n",
       "      <td>0.000692</td>\n",
       "      <td>0.034985</td>\n",
       "      <td>0.007338</td>\n",
       "      <td>0.040571</td>\n",
       "    </tr>\n",
       "    <tr>\n",
       "      <th>Amidar</th>\n",
       "      <td>0.000378</td>\n",
       "      <td>0.000378</td>\n",
       "      <td>0.007455</td>\n",
       "      <td>0.000627</td>\n",
       "      <td>0.000627</td>\n",
       "      <td>0.009036</td>\n",
       "      <td>0.000245</td>\n",
       "      <td>0.004485</td>\n",
       "      <td>2.171497</td>\n",
       "      <td>0.001080</td>\n",
       "      <td>0.012648</td>\n",
       "      <td>2.403203</td>\n",
       "      <td>0.011969</td>\n",
       "      <td>0.01614</td>\n",
       "      <td>0.013054</td>\n",
       "      <td>1.802306</td>\n",
       "      <td>2.315752</td>\n",
       "      <td>0.028396</td>\n",
       "    </tr>\n",
       "    <tr>\n",
       "      <th>Assault</th>\n",
       "      <td>0.000014</td>\n",
       "      <td>0.000014</td>\n",
       "      <td>0.000053</td>\n",
       "      <td>0.000021</td>\n",
       "      <td>0.000021</td>\n",
       "      <td>0.000043</td>\n",
       "      <td>0.000014</td>\n",
       "      <td>0.000040</td>\n",
       "      <td>2.125762</td>\n",
       "      <td>0.000021</td>\n",
       "      <td>0.000046</td>\n",
       "      <td>2.124676</td>\n",
       "      <td>0.000000</td>\n",
       "      <td>0.00000</td>\n",
       "      <td>0.000000</td>\n",
       "      <td>0.000075</td>\n",
       "      <td>0.000000</td>\n",
       "      <td>0.024049</td>\n",
       "    </tr>\n",
       "    <tr>\n",
       "      <th>Asterix</th>\n",
       "      <td>0.000210</td>\n",
       "      <td>0.000210</td>\n",
       "      <td>0.001097</td>\n",
       "      <td>0.000207</td>\n",
       "      <td>0.000207</td>\n",
       "      <td>0.001159</td>\n",
       "      <td>0.000085</td>\n",
       "      <td>0.000581</td>\n",
       "      <td>2.128017</td>\n",
       "      <td>0.000098</td>\n",
       "      <td>0.000816</td>\n",
       "      <td>2.125485</td>\n",
       "      <td>0.000045</td>\n",
       "      <td>0.00000</td>\n",
       "      <td>0.000057</td>\n",
       "      <td>5.000000</td>\n",
       "      <td>0.000000</td>\n",
       "      <td>0.024059</td>\n",
       "    </tr>\n",
       "  </tbody>\n",
       "</table>\n",
       "</div>"
      ],
      "text/plain": [
       "         reg_loss   reg_mse   reg_mae  reg_val_loss  reg_val_mse  reg_val_mae  \\\n",
       "game                                                                            \n",
       "AirRaid  0.008682  0.008682  0.067155      0.010074     0.010074     0.059409   \n",
       "Alien    0.000827  0.000827  0.008731      0.000716     0.000716     0.008891   \n",
       "Amidar   0.000378  0.000378  0.007455      0.000627     0.000627     0.009036   \n",
       "Assault  0.000014  0.000014  0.000053      0.000021     0.000021     0.000043   \n",
       "Asterix  0.000210  0.000210  0.001097      0.000207     0.000207     0.001159   \n",
       "\n",
       "          hlg_mse   hlg_mae  hlg_loss  hlg_val_mse  hlg_val_mae  hlg_val_loss  \\\n",
       "game                                                                            \n",
       "AirRaid  0.008873  0.068780  3.126328     0.008873     0.068190      3.125896   \n",
       "Alien    0.000843  0.007925  2.243576     0.000709     0.008230      2.240457   \n",
       "Amidar   0.000245  0.004485  2.171497     0.001080     0.012648      2.403203   \n",
       "Assault  0.000014  0.000040  2.125762     0.000021     0.000046      2.124676   \n",
       "Asterix  0.000085  0.000581  2.128017     0.000098     0.000816      2.125485   \n",
       "\n",
       "             y_sd   reg_sd    hlg_sd   kl_mean     kl_sd   hist_sd  \n",
       "game                                                                \n",
       "AirRaid  0.136130  0.00000  0.000000  1.354709  1.336799  0.096615  \n",
       "Alien    0.002764  0.00000  0.000692  0.034985  0.007338  0.040571  \n",
       "Amidar   0.011969  0.01614  0.013054  1.802306  2.315752  0.028396  \n",
       "Assault  0.000000  0.00000  0.000000  0.000075  0.000000  0.024049  \n",
       "Asterix  0.000045  0.00000  0.000057  5.000000  0.000000  0.024059  "
      ]
     },
     "execution_count": 22,
     "metadata": {},
     "output_type": "execute_result"
    }
   ],
   "source": [
    "# Load data\n",
    "path = os.path.join(\"..\", \"data\", \"csvresults\", \"atari_meta.csv\")\n",
    "df = pd.read_csv(path)\n",
    "df = df.drop('Unnamed: 0', axis=1).set_index(\"game\")\n",
    "df = df.drop([\"Tennis\", \"Venture\", \"MontezumaRevenge\"])\n",
    "df.head()"
   ]
  },
  {
   "cell_type": "code",
   "execution_count": 23,
   "metadata": {},
   "outputs": [],
   "source": [
    "# Select input and response variables\n",
    "#X = np.sqrt(df[\"reg_val_mse\"].to_numpy())\n",
    "#Y = np.sqrt(df[\"hlg_val_mse\"].to_numpy())\n",
    "X = df[\"reg_val_mae\"].to_numpy()\n",
    "Y = df[\"hlg_val_mae\"].to_numpy()"
   ]
  },
  {
   "cell_type": "code",
   "execution_count": 24,
   "metadata": {},
   "outputs": [
    {
     "data": {
      "image/png": "[encoded data removed]",
      "text/plain": [
       "<Figure size 640x480 with 1 Axes>"
      ]
     },
     "metadata": {},
     "output_type": "display_data"
    }
   ],
   "source": [
    "# Plot data\n",
    "plt.scatter(X, Y)\n",
    "plt.show()"
   ]
  },
  {
   "cell_type": "code",
   "execution_count": 25,
   "metadata": {},
   "outputs": [
    {
     "data": {
      "text/plain": [
       "0.8671571105168883"
      ]
     },
     "execution_count": 25,
     "metadata": {},
     "output_type": "execute_result"
    }
   ],
   "source": [
    "# Estimate slope\n",
    "b_hat = np.dot(X.T, Y) / np.dot(X.T, X)\n",
    "b_hat"
   ]
  },
  {
   "cell_type": "code",
   "execution_count": 26,
   "metadata": {},
   "outputs": [
    {
     "data": {
      "text/plain": [
       "array([ 1.66730020e-02,  5.20068948e-04,  4.81288878e-03,  8.88705004e-06,\n",
       "       -1.89345742e-04, -3.68552575e-03,  9.55120531e-04,  8.49995949e-04,\n",
       "       -8.20090990e-05,  1.21247613e-03,  1.52301453e-02,  5.01169681e-03,\n",
       "        3.84822040e-02,  6.42714567e-04, -2.26376729e-04,  6.38023319e-03,\n",
       "       -3.76147199e-03,  3.22519936e-03, -3.54840677e-04,  1.22522145e-03,\n",
       "       -4.66756562e-04,  2.80535801e-02,  1.37596134e-02, -1.56948393e-02,\n",
       "       -5.86140929e-03,  9.17733199e-03,  4.88892941e-04, -7.04057950e-04,\n",
       "        6.00009961e-03, -4.10386074e-02,  1.41518418e-05, -1.96738583e-02,\n",
       "        3.12232631e-05, -1.24503910e-03, -1.73922052e-04, -3.69203586e-03,\n",
       "       -4.61793405e-04,  1.44540179e-02, -9.41563240e-04,  5.34350708e-03,\n",
       "        8.96309484e-03, -3.29011979e-02,  1.18290352e-03, -4.13021927e-03,\n",
       "        1.39399442e-02,  4.80448996e-03, -4.38690373e-02,  9.73292875e-03,\n",
       "       -5.63458442e-04,  1.24955183e-03, -2.86689855e-03, -1.09898599e-02,\n",
       "       -2.09449897e-03, -4.67012209e-02, -5.70185025e-03])"
      ]
     },
     "execution_count": 26,
     "metadata": {},
     "output_type": "execute_result"
    }
   ],
   "source": [
    "# Compute residuals\n",
    "r = Y - b_hat * X\n",
    "r"
   ]
  },
  {
   "cell_type": "code",
   "execution_count": 27,
   "metadata": {},
   "outputs": [
    {
     "data": {
      "text/plain": [
       "0.011593349985636365"
      ]
     },
     "execution_count": 27,
     "metadata": {},
     "output_type": "execute_result"
    }
   ],
   "source": [
    "# Compute SSres\n",
    "ss_res = np.sum(r ** 2)\n",
    "ss_res"
   ]
  },
  {
   "cell_type": "code",
   "execution_count": 28,
   "metadata": {},
   "outputs": [
    {
     "data": {
      "text/plain": [
       "(0.03556904256329661, 55)"
      ]
     },
     "execution_count": 28,
     "metadata": {},
     "output_type": "execute_result"
    }
   ],
   "source": [
    "# Compute standard error\n",
    "n = len(X)\n",
    "p = 0\n",
    "se_b = np.sqrt(ss_res / (np.dot(X.T, X) * (n - p - 1)))\n",
    "se_b, n"
   ]
  },
  {
   "cell_type": "code",
   "execution_count": 29,
   "metadata": {},
   "outputs": [
    {
     "data": {
      "image/png": "[encoded data removed]",
      "text/plain": [
       "<Figure size 640x480 with 1 Axes>"
      ]
     },
     "metadata": {},
     "output_type": "display_data"
    }
   ],
   "source": [
    "# Plot residuals\n",
    "plt.scatter(b_hat * X, r)\n",
    "plt.show()"
   ]
  },
  {
   "cell_type": "code",
   "execution_count": 30,
   "metadata": {},
   "outputs": [
    {
     "data": {
      "text/plain": [
       "(0.7958454738387318, 0.9384687471950447)"
      ]
     },
     "execution_count": 30,
     "metadata": {},
     "output_type": "execute_result"
    }
   ],
   "source": [
    "# Compute confidence interval\n",
    "alpha = 0.05\n",
    "t_star = stats.t.ppf(1 - alpha / 2, n - p - 1)\n",
    "low = b_hat - t_star * se_b\n",
    "high = b_hat + t_star * se_b\n",
    "\n",
    "low, high"
   ]
  },
  {
   "cell_type": "code",
   "execution_count": 31,
   "metadata": {},
   "outputs": [
    {
     "data": {
      "text/plain": [
       "0.00022704565694838127"
      ]
     },
     "execution_count": 31,
     "metadata": {},
     "output_type": "execute_result"
    }
   ],
   "source": [
    "# Compute one-sided p-value\n",
    "t_stat = (b_hat - 1) / se_b\n",
    "p_val = stats.t.cdf(-abs(t_stat), n - p - 1)\n",
    "p_val"
   ]
  }
 ],
 "metadata": {
  "kernelspec": {
   "display_name": "venv",
   "language": "python",
   "name": "python3"
  },
  "language_info": {
   "codemirror_mode": {
    "name": "ipython",
    "version": 3
   },
   "file_extension": ".py",
   "mimetype": "text/x-python",
   "name": "python",
   "nbconvert_exporter": "python",
   "pygments_lexer": "ipython3",
   "version": "3.11.4"
  },
  "orig_nbformat": 4
 },
 "nbformat": 4,
 "nbformat_minor": 2
}
