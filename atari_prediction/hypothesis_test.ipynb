{
 "cells": [
  {
   "cell_type": "code",
   "execution_count": 1,
   "metadata": {},
   "outputs": [],
   "source": [
    "import numpy as np\n",
    "import pandas as pd\n",
    "import matplotlib.pyplot as plt\n",
    "from scipy import stats\n",
    "import os"
   ]
  },
  {
   "cell_type": "code",
   "execution_count": 2,
   "metadata": {},
   "outputs": [
    {
     "data": {
      "text/html": [
       "<div>\n",
       "<style scoped>\n",
       "    .dataframe tbody tr th:only-of-type {\n",
       "        vertical-align: middle;\n",
       "    }\n",
       "\n",
       "    .dataframe tbody tr th {\n",
       "        vertical-align: top;\n",
       "    }\n",
       "\n",
       "    .dataframe thead th {\n",
       "        text-align: right;\n",
       "    }\n",
       "</style>\n",
       "<table border=\"1\" class=\"dataframe\">\n",
       "  <thead>\n",
       "    <tr style=\"text-align: right;\">\n",
       "      <th></th>\n",
       "      <th>reg_loss</th>\n",
       "      <th>reg_mse</th>\n",
       "      <th>reg_mae</th>\n",
       "      <th>reg_val_loss</th>\n",
       "      <th>reg_val_mse</th>\n",
       "      <th>reg_val_mae</th>\n",
       "      <th>hlg_mse</th>\n",
       "      <th>hlg_mae</th>\n",
       "      <th>hlg_loss</th>\n",
       "      <th>hlg_val_mse</th>\n",
       "      <th>hlg_val_mae</th>\n",
       "      <th>hlg_val_loss</th>\n",
       "      <th>y_sd</th>\n",
       "      <th>reg_sd</th>\n",
       "      <th>hlg_sd</th>\n",
       "      <th>kl_mean</th>\n",
       "      <th>kl_sd</th>\n",
       "      <th>hist_sd</th>\n",
       "    </tr>\n",
       "    <tr>\n",
       "      <th>game</th>\n",
       "      <th></th>\n",
       "      <th></th>\n",
       "      <th></th>\n",
       "      <th></th>\n",
       "      <th></th>\n",
       "      <th></th>\n",
       "      <th></th>\n",
       "      <th></th>\n",
       "      <th></th>\n",
       "      <th></th>\n",
       "      <th></th>\n",
       "      <th></th>\n",
       "      <th></th>\n",
       "      <th></th>\n",
       "      <th></th>\n",
       "      <th></th>\n",
       "      <th></th>\n",
       "      <th></th>\n",
       "    </tr>\n",
       "  </thead>\n",
       "  <tbody>\n",
       "    <tr>\n",
       "      <th>AirRaid</th>\n",
       "      <td>0.008682</td>\n",
       "      <td>0.008682</td>\n",
       "      <td>0.067155</td>\n",
       "      <td>0.010074</td>\n",
       "      <td>0.010074</td>\n",
       "      <td>0.059409</td>\n",
       "      <td>0.008873</td>\n",
       "      <td>0.068780</td>\n",
       "      <td>3.126328</td>\n",
       "      <td>0.008873</td>\n",
       "      <td>0.068190</td>\n",
       "      <td>3.125896</td>\n",
       "      <td>0.136130</td>\n",
       "      <td>0.00000</td>\n",
       "      <td>0.000000</td>\n",
       "      <td>1.354709</td>\n",
       "      <td>1.336799</td>\n",
       "      <td>0.096615</td>\n",
       "    </tr>\n",
       "    <tr>\n",
       "      <th>Alien</th>\n",
       "      <td>0.000827</td>\n",
       "      <td>0.000827</td>\n",
       "      <td>0.008731</td>\n",
       "      <td>0.000716</td>\n",
       "      <td>0.000716</td>\n",
       "      <td>0.008891</td>\n",
       "      <td>0.000843</td>\n",
       "      <td>0.007925</td>\n",
       "      <td>2.243576</td>\n",
       "      <td>0.000709</td>\n",
       "      <td>0.008230</td>\n",
       "      <td>2.240457</td>\n",
       "      <td>0.002764</td>\n",
       "      <td>0.00000</td>\n",
       "      <td>0.000692</td>\n",
       "      <td>0.034985</td>\n",
       "      <td>0.007338</td>\n",
       "      <td>0.040571</td>\n",
       "    </tr>\n",
       "    <tr>\n",
       "      <th>Amidar</th>\n",
       "      <td>0.000378</td>\n",
       "      <td>0.000378</td>\n",
       "      <td>0.007455</td>\n",
       "      <td>0.000627</td>\n",
       "      <td>0.000627</td>\n",
       "      <td>0.009036</td>\n",
       "      <td>0.000245</td>\n",
       "      <td>0.004485</td>\n",
       "      <td>2.171497</td>\n",
       "      <td>0.001080</td>\n",
       "      <td>0.012648</td>\n",
       "      <td>2.403203</td>\n",
       "      <td>0.011969</td>\n",
       "      <td>0.01614</td>\n",
       "      <td>0.013054</td>\n",
       "      <td>1.802306</td>\n",
       "      <td>2.315752</td>\n",
       "      <td>0.028396</td>\n",
       "    </tr>\n",
       "    <tr>\n",
       "      <th>Assault</th>\n",
       "      <td>0.000014</td>\n",
       "      <td>0.000014</td>\n",
       "      <td>0.000053</td>\n",
       "      <td>0.000021</td>\n",
       "      <td>0.000021</td>\n",
       "      <td>0.000043</td>\n",
       "      <td>0.000014</td>\n",
       "      <td>0.000040</td>\n",
       "      <td>2.125762</td>\n",
       "      <td>0.000021</td>\n",
       "      <td>0.000046</td>\n",
       "      <td>2.124676</td>\n",
       "      <td>0.000000</td>\n",
       "      <td>0.00000</td>\n",
       "      <td>0.000000</td>\n",
       "      <td>0.000075</td>\n",
       "      <td>0.000000</td>\n",
       "      <td>0.024049</td>\n",
       "    </tr>\n",
       "    <tr>\n",
       "      <th>Asterix</th>\n",
       "      <td>0.000210</td>\n",
       "      <td>0.000210</td>\n",
       "      <td>0.001097</td>\n",
       "      <td>0.000207</td>\n",
       "      <td>0.000207</td>\n",
       "      <td>0.001159</td>\n",
       "      <td>0.000085</td>\n",
       "      <td>0.000581</td>\n",
       "      <td>2.128017</td>\n",
       "      <td>0.000098</td>\n",
       "      <td>0.000816</td>\n",
       "      <td>2.125485</td>\n",
       "      <td>0.000045</td>\n",
       "      <td>0.00000</td>\n",
       "      <td>0.000057</td>\n",
       "      <td>5.000000</td>\n",
       "      <td>0.000000</td>\n",
       "      <td>0.024059</td>\n",
       "    </tr>\n",
       "  </tbody>\n",
       "</table>\n",
       "</div>"
      ],
      "text/plain": [
       "         reg_loss   reg_mse   reg_mae  reg_val_loss  reg_val_mse  reg_val_mae  \\\n",
       "game                                                                            \n",
       "AirRaid  0.008682  0.008682  0.067155      0.010074     0.010074     0.059409   \n",
       "Alien    0.000827  0.000827  0.008731      0.000716     0.000716     0.008891   \n",
       "Amidar   0.000378  0.000378  0.007455      0.000627     0.000627     0.009036   \n",
       "Assault  0.000014  0.000014  0.000053      0.000021     0.000021     0.000043   \n",
       "Asterix  0.000210  0.000210  0.001097      0.000207     0.000207     0.001159   \n",
       "\n",
       "          hlg_mse   hlg_mae  hlg_loss  hlg_val_mse  hlg_val_mae  hlg_val_loss  \\\n",
       "game                                                                            \n",
       "AirRaid  0.008873  0.068780  3.126328     0.008873     0.068190      3.125896   \n",
       "Alien    0.000843  0.007925  2.243576     0.000709     0.008230      2.240457   \n",
       "Amidar   0.000245  0.004485  2.171497     0.001080     0.012648      2.403203   \n",
       "Assault  0.000014  0.000040  2.125762     0.000021     0.000046      2.124676   \n",
       "Asterix  0.000085  0.000581  2.128017     0.000098     0.000816      2.125485   \n",
       "\n",
       "             y_sd   reg_sd    hlg_sd   kl_mean     kl_sd   hist_sd  \n",
       "game                                                                \n",
       "AirRaid  0.136130  0.00000  0.000000  1.354709  1.336799  0.096615  \n",
       "Alien    0.002764  0.00000  0.000692  0.034985  0.007338  0.040571  \n",
       "Amidar   0.011969  0.01614  0.013054  1.802306  2.315752  0.028396  \n",
       "Assault  0.000000  0.00000  0.000000  0.000075  0.000000  0.024049  \n",
       "Asterix  0.000045  0.00000  0.000057  5.000000  0.000000  0.024059  "
      ]
     },
     "execution_count": 2,
     "metadata": {},
     "output_type": "execute_result"
    }
   ],
   "source": [
    "# Load data\n",
    "path = os.path.join(\"..\", \"data\", \"csvresults\", \"atari_meta.csv\")\n",
    "df = pd.read_csv(path)\n",
    "df = df.drop('Unnamed: 0', axis=1).set_index(\"game\")\n",
    "df = df.drop([\"Tennis\", \"Venture\", \"MontezumaRevenge\"])\n",
    "df.head()"
   ]
  },
  {
   "cell_type": "code",
   "execution_count": 28,
   "metadata": {},
   "outputs": [
    {
     "data": {
      "text/plain": [
       "array([-6.34677767e-02, -4.56399982e-03,  2.71753227e-01, -1.85497799e-05,\n",
       "       -3.73678865e-01, -7.93417059e-02, -2.38656698e-02,  7.89783732e-04,\n",
       "       -7.25267362e-02,  3.01501128e-02,  1.02942196e-01, -3.13073407e-03,\n",
       "        4.55281071e-01,  1.00601403e-02, -6.58916178e-03, -2.53044433e-02,\n",
       "       -8.96079127e-04, -1.38274828e-01,  3.56632326e-01, -6.06644981e-02,\n",
       "       -7.65437213e-03,  1.17014329e-04, -1.17679397e-03, -2.51583723e-01,\n",
       "        1.74793232e-01, -2.55409613e-03, -2.86148322e-03,  4.01298348e-01,\n",
       "       -2.27495766e-02, -5.27052663e-01, -3.97317011e-02, -4.91009542e-01,\n",
       "       -3.61886959e-05, -6.40567783e-01,  2.35485064e-01, -2.11278756e+00,\n",
       "       -5.52443357e-01, -1.43568931e-04,  1.09136182e-01, -7.70438595e-03,\n",
       "        6.35143591e-02, -2.58306631e+00,  1.44474921e-03, -6.86355553e-02,\n",
       "        1.62649558e-01, -1.23974707e-02, -5.90389437e-01, -3.16451786e-02,\n",
       "       -3.09979662e-02,  1.12579911e-01, -1.73539875e-01, -1.05810024e-01,\n",
       "       -2.46559268e-01, -7.82252921e-01, -1.08240242e-01])"
      ]
     },
     "execution_count": 28,
     "metadata": {},
     "output_type": "execute_result"
    }
   ],
   "source": [
    "# Select variable to test for mean zero\n",
    "\n",
    "#Y = (df[\"hlg_val_mae\"].to_numpy() / df[\"reg_val_mae\"].to_numpy()) - 1\n",
    "#Y = np.sqrt(df[\"hlg_val_mse\"].to_numpy()) / np.sqrt(df[\"reg_val_mse\"].to_numpy()) - 1\n",
    "#Y = np.log(df[\"hlg_val_mae\"].to_numpy() / df[\"reg_val_mae\"].to_numpy())\n",
    "Y = np.log(np.sqrt(df[\"hlg_val_mse\"].to_numpy()) / np.sqrt(df[\"reg_val_mse\"].to_numpy()))\n",
    "Y"
   ]
  },
  {
   "cell_type": "code",
   "execution_count": 29,
   "metadata": {},
   "outputs": [
    {
     "data": {
      "image/png": "[encoded data removed]",
      "text/plain": [
       "<Figure size 640x480 with 1 Axes>"
      ]
     },
     "metadata": {},
     "output_type": "display_data"
    }
   ],
   "source": [
    "# Plot Y\n",
    "plt.plot(Y)\n",
    "plt.show()"
   ]
  },
  {
   "cell_type": "code",
   "execution_count": 30,
   "metadata": {},
   "outputs": [
    {
     "data": {
      "text/plain": [
       "(-0.14104157857361901, 0.06698007177149297, -2.1057245064590537)"
      ]
     },
     "execution_count": 30,
     "metadata": {},
     "output_type": "execute_result"
    }
   ],
   "source": [
    "# Compute estimated mean, standard error, test statistic\n",
    "n = len(Y)\n",
    "b_hat = np.mean(Y)\n",
    "se_b = np.std(Y, ddof=1) / np.sqrt(n)\n",
    "t = b_hat / se_b\n",
    "b_hat, se_b, t"
   ]
  },
  {
   "cell_type": "code",
   "execution_count": 31,
   "metadata": {},
   "outputs": [
    {
     "data": {
      "text/plain": [
       "(-0.27532853708102434, -0.00675462006621369)"
      ]
     },
     "execution_count": 31,
     "metadata": {},
     "output_type": "execute_result"
    }
   ],
   "source": [
    "# Compute confidence interval\n",
    "alpha = 0.05\n",
    "t_star = stats.t.ppf(1 - alpha / 2, n - 1)\n",
    "low = b_hat - t_star * se_b\n",
    "high = b_hat + t_star * se_b\n",
    "\n",
    "low, high"
   ]
  },
  {
   "cell_type": "code",
   "execution_count": 32,
   "metadata": {},
   "outputs": [
    {
     "data": {
      "text/plain": [
       "0.019946790480459452"
      ]
     },
     "execution_count": 32,
     "metadata": {},
     "output_type": "execute_result"
    }
   ],
   "source": [
    "# Compute one-sided p-value\n",
    "p_val = stats.t.cdf(-abs(t), n - 1)\n",
    "p_val"
   ]
  }
 ],
 "metadata": {
  "kernelspec": {
   "display_name": "venv",
   "language": "python",
   "name": "python3"
  },
  "language_info": {
   "codemirror_mode": {
    "name": "ipython",
    "version": 3
   },
   "file_extension": ".py",
   "mimetype": "text/x-python",
   "name": "python",
   "nbconvert_exporter": "python",
   "pygments_lexer": "ipython3",
   "version": "3.11.4"
  },
  "orig_nbformat": 4
 },
 "nbformat": 4,
 "nbformat_minor": 2
}
